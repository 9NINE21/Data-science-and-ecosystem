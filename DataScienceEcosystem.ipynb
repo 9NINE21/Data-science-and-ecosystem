{
 "cells": [
  {
   "cell_type": "markdown",
   "id": "1c667a7f",
   "metadata": {},
   "source": [
    "# Data Science and Ecosystem\n"
   ]
  },
  {
   "cell_type": "markdown",
   "id": "a3e38c23",
   "metadata": {},
   "source": [
    "## In this notebook, Data Science Tools and Ecosystem are summarized "
   ]
  },
  {
   "cell_type": "markdown",
   "id": "9cc6076e",
   "metadata": {},
   "source": [
    "### Some of the popular language that data Scientists use are:"
   ]
  },
  {
   "cell_type": "code",
   "execution_count": 3,
   "id": "93f19ac6",
   "metadata": {},
   "outputs": [
    {
     "name": "stdout",
     "output_type": "stream",
     "text": [
      "['python', 'r', 'java', 'scala']\n"
     ]
    }
   ],
   "source": [
    "a=[\"python\",\"r\",\"java\",\"scala\"]\n",
    "print (a)"
   ]
  },
  {
   "cell_type": "markdown",
   "id": "c6b9664e",
   "metadata": {},
   "source": [
    "### Some of the commonly used libraries used by Data Scientists  include:"
   ]
  },
  {
   "cell_type": "code",
   "execution_count": 4,
   "id": "461e90ab",
   "metadata": {},
   "outputs": [
    {
     "name": "stdout",
     "output_type": "stream",
     "text": [
      "['pandas', 'numpy', 'matplotlib']\n"
     ]
    }
   ],
   "source": [
    "a=[\"pandas\",\"numpy\",\"matplotlib\"]\n",
    "print(a)"
   ]
  },
  {
   "cell_type": "markdown",
   "id": "33bbba19",
   "metadata": {},
   "source": [
    "### Data Science Tools\n"
   ]
  },
  {
   "cell_type": "markdown",
   "id": "12994914",
   "metadata": {},
   "source": [
    "#### GIT\n",
    "##### Apache Subversion\n",
    "###### Vim"
   ]
  },
  {
   "cell_type": "markdown",
   "id": "1cf0b4cb",
   "metadata": {},
   "source": [
    "### Below are a few examples of evaluating arithmetic expressions in python"
   ]
  },
  {
   "cell_type": "code",
   "execution_count": 5,
   "id": "867e828f",
   "metadata": {},
   "outputs": [
    {
     "data": {
      "text/plain": [
       "15"
      ]
     },
     "execution_count": 5,
     "metadata": {},
     "output_type": "execute_result"
    }
   ],
   "source": [
    "3*5"
   ]
  },
  {
   "cell_type": "code",
   "execution_count": 6,
   "id": "4654ab1b",
   "metadata": {},
   "outputs": [
    {
     "data": {
      "text/plain": [
       "30"
      ]
     },
     "execution_count": 6,
     "metadata": {},
     "output_type": "execute_result"
    }
   ],
   "source": [
    "(4+2)*5\n"
   ]
  },
  {
   "cell_type": "code",
   "execution_count": 7,
   "id": "8d82f4ce",
   "metadata": {},
   "outputs": [
    {
     "name": "stdout",
     "output_type": "stream",
     "text": [
      "17\n"
     ]
    }
   ],
   "source": [
    "a=(3*4)+5\n",
    "print(a)"
   ]
  },
  {
   "cell_type": "code",
   "execution_count": 8,
   "id": "a4924695",
   "metadata": {},
   "outputs": [
    {
     "name": "stdout",
     "output_type": "stream",
     "text": [
      "3.3333333333333335\n"
     ]
    }
   ],
   "source": [
    "a=200\n",
    "b=a/60\n",
    "print(b)"
   ]
  },
  {
   "cell_type": "markdown",
   "id": "9a1a2cfc",
   "metadata": {},
   "source": [
    "### list popular language of data science "
   ]
  },
  {
   "cell_type": "code",
   "execution_count": 9,
   "id": "38ead415",
   "metadata": {},
   "outputs": [
    {
     "name": "stdout",
     "output_type": "stream",
     "text": [
      "{'Python', 'Scala', 'Julia', 'R'}\n"
     ]
    }
   ],
   "source": [
    "a={\"Python\",\"R\",\"Scala\",\"Julia\"}\n",
    "print(a)"
   ]
  },
  {
   "cell_type": "markdown",
   "id": "adbed4f7",
   "metadata": {},
   "source": [
    "##  Lakshmi  Holla\n",
    "## Niveditha Pandith\n",
    "Hrishav Rupakheti\n",
    "\n"
   ]
  },
  {
   "cell_type": "code",
   "execution_count": null,
   "id": "750e2932",
   "metadata": {},
   "outputs": [],
   "source": []
  }
 ],
 "metadata": {
  "kernelspec": {
   "display_name": "Python 3 (ipykernel)",
   "language": "python",
   "name": "python3"
  },
  "language_info": {
   "codemirror_mode": {
    "name": "ipython",
    "version": 3
   },
   "file_extension": ".py",
   "mimetype": "text/x-python",
   "name": "python",
   "nbconvert_exporter": "python",
   "pygments_lexer": "ipython3",
   "version": "3.9.13"
  }
 },
 "nbformat": 4,
 "nbformat_minor": 5
}
